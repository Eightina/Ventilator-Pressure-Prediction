{
 "cells": [
  {
   "cell_type": "markdown",
   "metadata": {
    "papermill": {
     "duration": 0.022668,
     "end_time": "2021-09-23T21:20:08.536683",
     "exception": false,
     "start_time": "2021-09-23T21:20:08.514015",
     "status": "completed"
    },
    "tags": []
   },
   "source": [
    "# Deep Learning Starter : Simple LSTM\n",
    "\n",
    "This notebook leverages the time series structure of the data.\n",
    "\n",
    "I expect sequential Deep Learning models to dominate in this competition, so here's a simple LSTM architecture.\n",
    "\n",
    "Parameters were not really tweaked so the baseline is easily improvable.\n",
    "\n",
    "Code is taken from previous work, some functions are documented but the doc may be outdated.\n",
    "\n",
    "\n",
    "**Don't fork without upvoting ^^**"
   ]
  },
  {
   "cell_type": "code",
   "execution_count": 1,
   "metadata": {
    "_kg_hide-input": true,
    "execution": {
     "iopub.execute_input": "2021-09-23T21:20:08.584490Z",
     "iopub.status.busy": "2021-09-23T21:20:08.583029Z",
     "iopub.status.idle": "2021-09-23T21:20:09.357402Z",
     "shell.execute_reply": "2021-09-23T21:20:09.356832Z",
     "shell.execute_reply.started": "2021-09-23T15:48:46.478686Z"
    },
    "papermill": {
     "duration": 0.799234,
     "end_time": "2021-09-23T21:20:09.357559",
     "exception": false,
     "start_time": "2021-09-23T21:20:08.558325",
     "status": "completed"
    },
    "tags": []
   },
   "outputs": [],
   "source": [
    "import os\n",
    "import warnings\n",
    "import numpy as np\n",
    "import pandas as pd\n",
    "import seaborn as sns\n",
    "import matplotlib.pyplot as plt\n",
    "\n",
    "from tqdm.notebook import tqdm\n",
    "from collections import Counter\n",
    "\n",
    "warnings.filterwarnings(\"ignore\")\n",
    "NUM_WORKERS = 4"
   ]
  },
  {
   "cell_type": "markdown",
   "metadata": {
    "papermill": {
     "duration": 0.021801,
     "end_time": "2021-09-23T21:20:09.402779",
     "exception": false,
     "start_time": "2021-09-23T21:20:09.380978",
     "status": "completed"
    },
    "tags": []
   },
   "source": [
    "## Data"
   ]
  },
  {
   "cell_type": "markdown",
   "metadata": {
    "papermill": {
     "duration": 0.021737,
     "end_time": "2021-09-23T21:20:09.446272",
     "exception": false,
     "start_time": "2021-09-23T21:20:09.424535",
     "status": "completed"
    },
    "tags": []
   },
   "source": [
    "### Load"
   ]
  },
  {
   "cell_type": "code",
   "execution_count": 2,
   "metadata": {
    "execution": {
     "iopub.execute_input": "2021-09-23T21:20:09.495043Z",
     "iopub.status.busy": "2021-09-23T21:20:09.494517Z",
     "iopub.status.idle": "2021-09-23T21:20:23.057883Z",
     "shell.execute_reply": "2021-09-23T21:20:23.058339Z",
     "shell.execute_reply.started": "2021-09-23T15:48:46.489787Z"
    },
    "papermill": {
     "duration": 13.590445,
     "end_time": "2021-09-23T21:20:23.058540",
     "exception": false,
     "start_time": "2021-09-23T21:20:09.468095",
     "status": "completed"
    },
    "tags": []
   },
   "outputs": [],
   "source": [
    "DATA_PATH = \"\"\n",
    "\n",
    "sub = pd.read_csv(DATA_PATH + 'sample_submission.csv')\n",
    "df_train = pd.read_csv(DATA_PATH + 'train.csv')\n",
    "df_test = pd.read_csv(DATA_PATH + 'test.csv')\n",
    "\n",
    "\n",
    "df = df_train[df_train['breath_id'] < 5].reset_index(drop=True)"
   ]
  },
  {
   "cell_type": "code",
   "execution_count": 4,
   "metadata": {
    "execution": {
     "iopub.execute_input": "2021-09-23T21:20:23.108914Z",
     "iopub.status.busy": "2021-09-23T21:20:23.108256Z",
     "iopub.status.idle": "2021-09-23T21:20:23.122181Z",
     "shell.execute_reply": "2021-09-23T21:20:23.122585Z",
     "shell.execute_reply.started": "2021-09-23T15:48:53.636373Z"
    },
    "papermill": {
     "duration": 0.042028,
     "end_time": "2021-09-23T21:20:23.122704",
     "exception": false,
     "start_time": "2021-09-23T21:20:23.080676",
     "status": "completed"
    },
    "tags": []
   },
   "outputs": [
    {
     "data": {
      "text/html": [
       "<div>\n",
       "<style scoped>\n",
       "    .dataframe tbody tr th:only-of-type {\n",
       "        vertical-align: middle;\n",
       "    }\n",
       "\n",
       "    .dataframe tbody tr th {\n",
       "        vertical-align: top;\n",
       "    }\n",
       "\n",
       "    .dataframe thead th {\n",
       "        text-align: right;\n",
       "    }\n",
       "</style>\n",
       "<table border=\"1\" class=\"dataframe\">\n",
       "  <thead>\n",
       "    <tr style=\"text-align: right;\">\n",
       "      <th></th>\n",
       "      <th>id</th>\n",
       "      <th>breath_id</th>\n",
       "      <th>R</th>\n",
       "      <th>C</th>\n",
       "      <th>time_step</th>\n",
       "      <th>u_in</th>\n",
       "      <th>u_out</th>\n",
       "      <th>pressure</th>\n",
       "    </tr>\n",
       "  </thead>\n",
       "  <tbody>\n",
       "    <tr>\n",
       "      <th>0</th>\n",
       "      <td>1</td>\n",
       "      <td>1</td>\n",
       "      <td>20</td>\n",
       "      <td>50</td>\n",
       "      <td>0.000000</td>\n",
       "      <td>0.083334</td>\n",
       "      <td>0</td>\n",
       "      <td>5.837492</td>\n",
       "    </tr>\n",
       "    <tr>\n",
       "      <th>1</th>\n",
       "      <td>2</td>\n",
       "      <td>1</td>\n",
       "      <td>20</td>\n",
       "      <td>50</td>\n",
       "      <td>0.033652</td>\n",
       "      <td>18.383041</td>\n",
       "      <td>0</td>\n",
       "      <td>5.907794</td>\n",
       "    </tr>\n",
       "    <tr>\n",
       "      <th>2</th>\n",
       "      <td>3</td>\n",
       "      <td>1</td>\n",
       "      <td>20</td>\n",
       "      <td>50</td>\n",
       "      <td>0.067514</td>\n",
       "      <td>22.509278</td>\n",
       "      <td>0</td>\n",
       "      <td>7.876254</td>\n",
       "    </tr>\n",
       "    <tr>\n",
       "      <th>3</th>\n",
       "      <td>4</td>\n",
       "      <td>1</td>\n",
       "      <td>20</td>\n",
       "      <td>50</td>\n",
       "      <td>0.101542</td>\n",
       "      <td>22.808822</td>\n",
       "      <td>0</td>\n",
       "      <td>11.742872</td>\n",
       "    </tr>\n",
       "    <tr>\n",
       "      <th>4</th>\n",
       "      <td>5</td>\n",
       "      <td>1</td>\n",
       "      <td>20</td>\n",
       "      <td>50</td>\n",
       "      <td>0.135756</td>\n",
       "      <td>25.355850</td>\n",
       "      <td>0</td>\n",
       "      <td>12.234987</td>\n",
       "    </tr>\n",
       "  </tbody>\n",
       "</table>\n",
       "</div>"
      ],
      "text/plain": [
       "   id  breath_id   R   C  time_step       u_in  u_out   pressure\n",
       "0   1          1  20  50   0.000000   0.083334      0   5.837492\n",
       "1   2          1  20  50   0.033652  18.383041      0   5.907794\n",
       "2   3          1  20  50   0.067514  22.509278      0   7.876254\n",
       "3   4          1  20  50   0.101542  22.808822      0  11.742872\n",
       "4   5          1  20  50   0.135756  25.355850      0  12.234987"
      ]
     },
     "execution_count": 4,
     "metadata": {},
     "output_type": "execute_result"
    }
   ],
   "source": [
    "df.head()"
   ]
  },
  {
   "cell_type": "code",
   "execution_count": 8,
   "id": "4da5bdee",
   "metadata": {},
   "outputs": [
    {
     "data": {
      "text/plain": [
       "0            NaN\n",
       "1       0.083334\n",
       "2      18.383041\n",
       "3      22.509278\n",
       "4      22.808822\n",
       "         ...    \n",
       "315     4.936515\n",
       "316     4.946119\n",
       "317     4.954007\n",
       "318     4.960767\n",
       "319     4.966532\n",
       "Name: u_in, Length: 320, dtype: float64"
      ]
     },
     "execution_count": 8,
     "metadata": {},
     "output_type": "execute_result"
    }
   ],
   "source": [
    "df.groupby('breath_id')['u_in'].shift(1)"
   ]
  },
  {
   "cell_type": "code",
   "execution_count": 10,
   "id": "cfbe9404",
   "metadata": {},
   "outputs": [
    {
     "data": {
      "text/plain": [
       "0            NaN\n",
       "1       0.083334\n",
       "2      18.383041\n",
       "3      22.509278\n",
       "4      22.808822\n",
       "         ...    \n",
       "315     4.936515\n",
       "316     4.946119\n",
       "317     4.954007\n",
       "318     4.960767\n",
       "319     4.966532\n",
       "Name: u_in, Length: 320, dtype: float64"
      ]
     },
     "execution_count": 10,
     "metadata": {},
     "output_type": "execute_result"
    }
   ],
   "source": [
    "df['u_in'].shift(1)"
   ]
  },
  {
   "cell_type": "code",
   "execution_count": 11,
   "metadata": {},
   "outputs": [],
   "source": [
    "def add_features(df):\n",
    "    df['area'] = df['time_step'] * df['u_in']\n",
    "    df['area'] = df.groupby('breath_id')['area'].cumsum()\n",
    "    df['u_in_lag1'] = df.groupby('breath_id')['u_in'].shift(1)\n",
    "    df['u_out_lag1'] = df.groupby('breath_id')['u_out'].shift(1)\n",
    "    df['u_in_lag_back1'] = df.groupby('breath_id')['u_in'].shift(-1)\n",
    "    df['u_out_lag_back1'] = df.groupby('breath_id')['u_out'].shift(-1)\n",
    "    df['u_in_lag2'] = df.groupby('breath_id')['u_in'].shift(2)\n",
    "    df['u_out_lag2'] = df.groupby('breath_id')['u_out'].shift(2)\n",
    "    df['u_in_lag_back2'] = df.groupby('breath_id')['u_in'].shift(-2)\n",
    "    df['u_out_lag_back2'] = df.groupby('breath_id')['u_out'].shift(-2)\n",
    "    df['u_in_lag3'] = df.groupby('breath_id')['u_in'].shift(3)\n",
    "    df['u_out_lag3'] = df.groupby('breath_id')['u_out'].shift(3)\n",
    "    df['u_in_lag_back3'] = df.groupby('breath_id')['u_in'].shift(-3)\n",
    "    df['u_out_lag_back3'] = df.groupby('breath_id')['u_out'].shift(-3)\n",
    "    df['u_in_lag4'] = df.groupby('breath_id')['u_in'].shift(4)\n",
    "    df['u_out_lag4'] = df.groupby('breath_id')['u_out'].shift(4)\n",
    "    df['u_in_lag_back4'] = df.groupby('breath_id')['u_in'].shift(-4)\n",
    "    df['u_out_lag_back4'] = df.groupby('breath_id')['u_out'].shift(-4)\n",
    "    df = df.fillna(0)\n",
    "    df['breath_id__u_in__max'] = df.groupby(['breath_id'])['u_in'].transform('max')\n",
    "    df['breath_id__u_out__max'] = df.groupby(['breath_id'])['u_out'].transform('max')\n",
    "    df['u_in_diff1'] = df['u_in'] - df['u_in_lag1']\n",
    "    df['u_out_diff1'] = df['u_out'] - df['u_out_lag1']\n",
    "    df['u_in_diff2'] = df['u_in'] - df['u_in_lag2']\n",
    "    df['u_out_diff2'] = df['u_out'] - df['u_out_lag2']\n",
    "    df['breath_id__u_in__diffmax'] = df.groupby(['breath_id'])['u_in'].transform('max') - df['u_in']\n",
    "    df['breath_id__u_in__diffmean'] = df.groupby(['breath_id'])['u_in'].transform('mean') - df['u_in']\n",
    "    df['u_in_diff3'] = df['u_in'] - df['u_in_lag3']\n",
    "    df['u_out_diff3'] = df['u_out'] - df['u_out_lag3']\n",
    "    df['u_in_diff4'] = df['u_in'] - df['u_in_lag4']\n",
    "    df['u_out_diff4'] = df['u_out'] - df['u_out_lag4']\n",
    "    df['cross']= df['u_in']*df['u_out']\n",
    "    df['cross2']= df['time_step']*df['u_out']\n",
    "    df['R'] = df['R'].astype(str)\n",
    "    df['C'] = df['C'].astype(str)\n",
    "    df['R__C'] = df[\"R\"].astype(str) + '__' + df[\"C\"].astype(str)\n",
    "    df = pd.get_dummies(df)\n",
    "    return df"
   ]
  },
  {
   "cell_type": "code",
   "execution_count": 12,
   "metadata": {},
   "outputs": [],
   "source": [
    "df_test = add_features(df_test)\n",
    "df_train = add_features(df_train)\n",
    "df = add_features(df)"
   ]
  },
  {
   "cell_type": "code",
   "execution_count": 13,
   "id": "169a931d",
   "metadata": {},
   "outputs": [
    {
     "data": {
      "text/html": [
       "<div>\n",
       "<style scoped>\n",
       "    .dataframe tbody tr th:only-of-type {\n",
       "        vertical-align: middle;\n",
       "    }\n",
       "\n",
       "    .dataframe tbody tr th {\n",
       "        vertical-align: top;\n",
       "    }\n",
       "\n",
       "    .dataframe thead th {\n",
       "        text-align: right;\n",
       "    }\n",
       "</style>\n",
       "<table border=\"1\" class=\"dataframe\">\n",
       "  <thead>\n",
       "    <tr style=\"text-align: right;\">\n",
       "      <th></th>\n",
       "      <th>id</th>\n",
       "      <th>breath_id</th>\n",
       "      <th>time_step</th>\n",
       "      <th>u_in</th>\n",
       "      <th>u_out</th>\n",
       "      <th>pressure</th>\n",
       "      <th>area</th>\n",
       "      <th>u_in_lag1</th>\n",
       "      <th>u_out_lag1</th>\n",
       "      <th>u_in_lag_back1</th>\n",
       "      <th>...</th>\n",
       "      <th>cross</th>\n",
       "      <th>cross2</th>\n",
       "      <th>R_20</th>\n",
       "      <th>R_50</th>\n",
       "      <th>C_20</th>\n",
       "      <th>C_50</th>\n",
       "      <th>R__C_20__20</th>\n",
       "      <th>R__C_20__50</th>\n",
       "      <th>R__C_50__20</th>\n",
       "      <th>R__C_50__50</th>\n",
       "    </tr>\n",
       "  </thead>\n",
       "  <tbody>\n",
       "    <tr>\n",
       "      <th>0</th>\n",
       "      <td>1</td>\n",
       "      <td>1</td>\n",
       "      <td>0.000000</td>\n",
       "      <td>0.083334</td>\n",
       "      <td>0</td>\n",
       "      <td>5.837492</td>\n",
       "      <td>0.000000</td>\n",
       "      <td>0.000000</td>\n",
       "      <td>0.0</td>\n",
       "      <td>18.383041</td>\n",
       "      <td>...</td>\n",
       "      <td>0.000000</td>\n",
       "      <td>0.000000</td>\n",
       "      <td>1</td>\n",
       "      <td>0</td>\n",
       "      <td>0</td>\n",
       "      <td>1</td>\n",
       "      <td>0</td>\n",
       "      <td>1</td>\n",
       "      <td>0</td>\n",
       "      <td>0</td>\n",
       "    </tr>\n",
       "    <tr>\n",
       "      <th>1</th>\n",
       "      <td>2</td>\n",
       "      <td>1</td>\n",
       "      <td>0.033652</td>\n",
       "      <td>18.383041</td>\n",
       "      <td>0</td>\n",
       "      <td>5.907794</td>\n",
       "      <td>0.618632</td>\n",
       "      <td>0.083334</td>\n",
       "      <td>0.0</td>\n",
       "      <td>22.509278</td>\n",
       "      <td>...</td>\n",
       "      <td>0.000000</td>\n",
       "      <td>0.000000</td>\n",
       "      <td>1</td>\n",
       "      <td>0</td>\n",
       "      <td>0</td>\n",
       "      <td>1</td>\n",
       "      <td>0</td>\n",
       "      <td>1</td>\n",
       "      <td>0</td>\n",
       "      <td>0</td>\n",
       "    </tr>\n",
       "    <tr>\n",
       "      <th>2</th>\n",
       "      <td>3</td>\n",
       "      <td>1</td>\n",
       "      <td>0.067514</td>\n",
       "      <td>22.509278</td>\n",
       "      <td>0</td>\n",
       "      <td>7.876254</td>\n",
       "      <td>2.138333</td>\n",
       "      <td>18.383041</td>\n",
       "      <td>0.0</td>\n",
       "      <td>22.808822</td>\n",
       "      <td>...</td>\n",
       "      <td>0.000000</td>\n",
       "      <td>0.000000</td>\n",
       "      <td>1</td>\n",
       "      <td>0</td>\n",
       "      <td>0</td>\n",
       "      <td>1</td>\n",
       "      <td>0</td>\n",
       "      <td>1</td>\n",
       "      <td>0</td>\n",
       "      <td>0</td>\n",
       "    </tr>\n",
       "    <tr>\n",
       "      <th>3</th>\n",
       "      <td>4</td>\n",
       "      <td>1</td>\n",
       "      <td>0.101542</td>\n",
       "      <td>22.808822</td>\n",
       "      <td>0</td>\n",
       "      <td>11.742872</td>\n",
       "      <td>4.454391</td>\n",
       "      <td>22.509278</td>\n",
       "      <td>0.0</td>\n",
       "      <td>25.355850</td>\n",
       "      <td>...</td>\n",
       "      <td>0.000000</td>\n",
       "      <td>0.000000</td>\n",
       "      <td>1</td>\n",
       "      <td>0</td>\n",
       "      <td>0</td>\n",
       "      <td>1</td>\n",
       "      <td>0</td>\n",
       "      <td>1</td>\n",
       "      <td>0</td>\n",
       "      <td>0</td>\n",
       "    </tr>\n",
       "    <tr>\n",
       "      <th>4</th>\n",
       "      <td>5</td>\n",
       "      <td>1</td>\n",
       "      <td>0.135756</td>\n",
       "      <td>25.355850</td>\n",
       "      <td>0</td>\n",
       "      <td>12.234987</td>\n",
       "      <td>7.896588</td>\n",
       "      <td>22.808822</td>\n",
       "      <td>0.0</td>\n",
       "      <td>27.259866</td>\n",
       "      <td>...</td>\n",
       "      <td>0.000000</td>\n",
       "      <td>0.000000</td>\n",
       "      <td>1</td>\n",
       "      <td>0</td>\n",
       "      <td>0</td>\n",
       "      <td>1</td>\n",
       "      <td>0</td>\n",
       "      <td>1</td>\n",
       "      <td>0</td>\n",
       "      <td>0</td>\n",
       "    </tr>\n",
       "    <tr>\n",
       "      <th>...</th>\n",
       "      <td>...</td>\n",
       "      <td>...</td>\n",
       "      <td>...</td>\n",
       "      <td>...</td>\n",
       "      <td>...</td>\n",
       "      <td>...</td>\n",
       "      <td>...</td>\n",
       "      <td>...</td>\n",
       "      <td>...</td>\n",
       "      <td>...</td>\n",
       "      <td>...</td>\n",
       "      <td>...</td>\n",
       "      <td>...</td>\n",
       "      <td>...</td>\n",
       "      <td>...</td>\n",
       "      <td>...</td>\n",
       "      <td>...</td>\n",
       "      <td>...</td>\n",
       "      <td>...</td>\n",
       "      <td>...</td>\n",
       "      <td>...</td>\n",
       "    </tr>\n",
       "    <tr>\n",
       "      <th>315</th>\n",
       "      <td>316</td>\n",
       "      <td>4</td>\n",
       "      <td>2.400609</td>\n",
       "      <td>4.946119</td>\n",
       "      <td>1</td>\n",
       "      <td>7.032628</td>\n",
       "      <td>393.557153</td>\n",
       "      <td>4.936515</td>\n",
       "      <td>1.0</td>\n",
       "      <td>4.954007</td>\n",
       "      <td>...</td>\n",
       "      <td>4.946119</td>\n",
       "      <td>2.400609</td>\n",
       "      <td>0</td>\n",
       "      <td>1</td>\n",
       "      <td>0</td>\n",
       "      <td>1</td>\n",
       "      <td>0</td>\n",
       "      <td>0</td>\n",
       "      <td>0</td>\n",
       "      <td>1</td>\n",
       "    </tr>\n",
       "    <tr>\n",
       "      <th>316</th>\n",
       "      <td>317</td>\n",
       "      <td>4</td>\n",
       "      <td>2.432266</td>\n",
       "      <td>4.954007</td>\n",
       "      <td>1</td>\n",
       "      <td>6.540513</td>\n",
       "      <td>405.606618</td>\n",
       "      <td>4.946119</td>\n",
       "      <td>1.0</td>\n",
       "      <td>4.960767</td>\n",
       "      <td>...</td>\n",
       "      <td>4.954007</td>\n",
       "      <td>2.432266</td>\n",
       "      <td>0</td>\n",
       "      <td>1</td>\n",
       "      <td>0</td>\n",
       "      <td>1</td>\n",
       "      <td>0</td>\n",
       "      <td>0</td>\n",
       "      <td>0</td>\n",
       "      <td>1</td>\n",
       "    </tr>\n",
       "    <tr>\n",
       "      <th>317</th>\n",
       "      <td>318</td>\n",
       "      <td>4</td>\n",
       "      <td>2.464062</td>\n",
       "      <td>4.960767</td>\n",
       "      <td>1</td>\n",
       "      <td>6.399909</td>\n",
       "      <td>417.830256</td>\n",
       "      <td>4.954007</td>\n",
       "      <td>1.0</td>\n",
       "      <td>4.966532</td>\n",
       "      <td>...</td>\n",
       "      <td>4.960767</td>\n",
       "      <td>2.464062</td>\n",
       "      <td>0</td>\n",
       "      <td>1</td>\n",
       "      <td>0</td>\n",
       "      <td>1</td>\n",
       "      <td>0</td>\n",
       "      <td>0</td>\n",
       "      <td>0</td>\n",
       "      <td>1</td>\n",
       "    </tr>\n",
       "    <tr>\n",
       "      <th>318</th>\n",
       "      <td>319</td>\n",
       "      <td>4</td>\n",
       "      <td>2.495845</td>\n",
       "      <td>4.966532</td>\n",
       "      <td>1</td>\n",
       "      <td>6.962326</td>\n",
       "      <td>430.225952</td>\n",
       "      <td>4.960767</td>\n",
       "      <td>1.0</td>\n",
       "      <td>4.971585</td>\n",
       "      <td>...</td>\n",
       "      <td>4.966532</td>\n",
       "      <td>2.495845</td>\n",
       "      <td>0</td>\n",
       "      <td>1</td>\n",
       "      <td>0</td>\n",
       "      <td>1</td>\n",
       "      <td>0</td>\n",
       "      <td>0</td>\n",
       "      <td>0</td>\n",
       "      <td>1</td>\n",
       "    </tr>\n",
       "    <tr>\n",
       "      <th>319</th>\n",
       "      <td>320</td>\n",
       "      <td>4</td>\n",
       "      <td>2.528579</td>\n",
       "      <td>4.971585</td>\n",
       "      <td>1</td>\n",
       "      <td>6.329607</td>\n",
       "      <td>442.796995</td>\n",
       "      <td>4.966532</td>\n",
       "      <td>1.0</td>\n",
       "      <td>0.000000</td>\n",
       "      <td>...</td>\n",
       "      <td>4.971585</td>\n",
       "      <td>2.528579</td>\n",
       "      <td>0</td>\n",
       "      <td>1</td>\n",
       "      <td>0</td>\n",
       "      <td>1</td>\n",
       "      <td>0</td>\n",
       "      <td>0</td>\n",
       "      <td>0</td>\n",
       "      <td>1</td>\n",
       "    </tr>\n",
       "  </tbody>\n",
       "</table>\n",
       "<p>320 rows × 45 columns</p>\n",
       "</div>"
      ],
      "text/plain": [
       "      id  breath_id  time_step       u_in  u_out   pressure        area  \\\n",
       "0      1          1   0.000000   0.083334      0   5.837492    0.000000   \n",
       "1      2          1   0.033652  18.383041      0   5.907794    0.618632   \n",
       "2      3          1   0.067514  22.509278      0   7.876254    2.138333   \n",
       "3      4          1   0.101542  22.808822      0  11.742872    4.454391   \n",
       "4      5          1   0.135756  25.355850      0  12.234987    7.896588   \n",
       "..   ...        ...        ...        ...    ...        ...         ...   \n",
       "315  316          4   2.400609   4.946119      1   7.032628  393.557153   \n",
       "316  317          4   2.432266   4.954007      1   6.540513  405.606618   \n",
       "317  318          4   2.464062   4.960767      1   6.399909  417.830256   \n",
       "318  319          4   2.495845   4.966532      1   6.962326  430.225952   \n",
       "319  320          4   2.528579   4.971585      1   6.329607  442.796995   \n",
       "\n",
       "     u_in_lag1  u_out_lag1  u_in_lag_back1  ...     cross    cross2  R_20  \\\n",
       "0     0.000000         0.0       18.383041  ...  0.000000  0.000000     1   \n",
       "1     0.083334         0.0       22.509278  ...  0.000000  0.000000     1   \n",
       "2    18.383041         0.0       22.808822  ...  0.000000  0.000000     1   \n",
       "3    22.509278         0.0       25.355850  ...  0.000000  0.000000     1   \n",
       "4    22.808822         0.0       27.259866  ...  0.000000  0.000000     1   \n",
       "..         ...         ...             ...  ...       ...       ...   ...   \n",
       "315   4.936515         1.0        4.954007  ...  4.946119  2.400609     0   \n",
       "316   4.946119         1.0        4.960767  ...  4.954007  2.432266     0   \n",
       "317   4.954007         1.0        4.966532  ...  4.960767  2.464062     0   \n",
       "318   4.960767         1.0        4.971585  ...  4.966532  2.495845     0   \n",
       "319   4.966532         1.0        0.000000  ...  4.971585  2.528579     0   \n",
       "\n",
       "     R_50  C_20  C_50  R__C_20__20  R__C_20__50  R__C_50__20  R__C_50__50  \n",
       "0       0     0     1            0            1            0            0  \n",
       "1       0     0     1            0            1            0            0  \n",
       "2       0     0     1            0            1            0            0  \n",
       "3       0     0     1            0            1            0            0  \n",
       "4       0     0     1            0            1            0            0  \n",
       "..    ...   ...   ...          ...          ...          ...          ...  \n",
       "315     1     0     1            0            0            0            1  \n",
       "316     1     0     1            0            0            0            1  \n",
       "317     1     0     1            0            0            0            1  \n",
       "318     1     0     1            0            0            0            1  \n",
       "319     1     0     1            0            0            0            1  \n",
       "\n",
       "[320 rows x 45 columns]"
      ]
     },
     "execution_count": 13,
     "metadata": {},
     "output_type": "execute_result"
    }
   ],
   "source": [
    "df"
   ]
  },
  {
   "cell_type": "code",
   "execution_count": 41,
   "metadata": {},
   "outputs": [
    {
     "data": {
      "text/plain": [
       "51"
      ]
     },
     "execution_count": 41,
     "metadata": {},
     "output_type": "execute_result"
    }
   ],
   "source": [
    "len(df_test.columns)"
   ]
  },
  {
   "cell_type": "code",
   "execution_count": 59,
   "metadata": {},
   "outputs": [
    {
     "data": {
      "text/plain": [
       "Index(['id', 'breath_id', 'time_step', 'u_in', 'u_out', 'pressure', 'area',\n",
       "       'u_in_lag1', 'u_out_lag1', 'u_in_lag_back1', 'u_out_lag_back1',\n",
       "       'u_in_lag2', 'u_out_lag2', 'u_in_lag_back2', 'u_out_lag_back2',\n",
       "       'u_in_lag3', 'u_out_lag3', 'u_in_lag_back3', 'u_out_lag_back3',\n",
       "       'u_in_lag4', 'u_out_lag4', 'u_in_lag_back4', 'u_out_lag_back4',\n",
       "       'breath_id__u_in__max', 'breath_id__u_out__max', 'u_in_diff1',\n",
       "       'u_out_diff1', 'u_in_diff2', 'u_out_diff2', 'breath_id__u_in__diffmax',\n",
       "       'breath_id__u_in__diffmean', 'u_in_diff3', 'u_out_diff3', 'u_in_diff4',\n",
       "       'u_out_diff4', 'cross', 'cross2', 'R_20', 'R_50', 'C_20', 'C_50',\n",
       "       'R__C_20__20', 'R__C_20__50', 'R__C_50__20', 'R__C_50__50'],\n",
       "      dtype='object')"
      ]
     },
     "execution_count": 59,
     "metadata": {},
     "output_type": "execute_result"
    }
   ],
   "source": [
    "df.columns"
   ]
  },
  {
   "cell_type": "markdown",
   "metadata": {
    "papermill": {
     "duration": 0.022522,
     "end_time": "2021-09-23T21:20:23.167084",
     "exception": false,
     "start_time": "2021-09-23T21:20:23.144562",
     "status": "completed"
    },
    "tags": []
   },
   "source": [
    "### Viz"
   ]
  },
  {
   "cell_type": "code",
   "execution_count": 46,
   "metadata": {
    "_kg_hide-input": true,
    "execution": {
     "iopub.execute_input": "2021-09-23T21:20:23.217155Z",
     "iopub.status.busy": "2021-09-23T21:20:23.216568Z",
     "iopub.status.idle": "2021-09-23T21:20:23.218727Z",
     "shell.execute_reply": "2021-09-23T21:20:23.219102Z",
     "shell.execute_reply.started": "2021-09-23T15:48:53.649751Z"
    },
    "papermill": {
     "duration": 0.029979,
     "end_time": "2021-09-23T21:20:23.219227",
     "exception": false,
     "start_time": "2021-09-23T21:20:23.189248",
     "status": "completed"
    },
    "tags": []
   },
   "outputs": [],
   "source": [
    "def plot_sample(sample_id, df):\n",
    "    df_breath = df[df['breath_id'] == sample_id]\n",
    "    r, c  = df_breath[['R_20', 'C_20']].values[0]\n",
    "\n",
    "    cols = ['u_in', 'u_out', 'pressure'] if 'pressure' in df.columns else ['u_in', 'u_out']\n",
    "    \n",
    "    plt.figure(figsize=(12, 4))\n",
    "    for col in ['u_in', 'u_out', 'pressure']:\n",
    "        plt.plot(df_breath['time_step'], df_breath[col], label=col)\n",
    "        \n",
    "    plt.legend()\n",
    "    plt.title(f'Sample {sample_id} - R={r}, C={c}')"
   ]
  },
  {
   "cell_type": "code",
   "execution_count": 47,
   "metadata": {
    "execution": {
     "iopub.execute_input": "2021-09-23T21:20:23.268961Z",
     "iopub.status.busy": "2021-09-23T21:20:23.268209Z",
     "iopub.status.idle": "2021-09-23T21:20:24.315047Z",
     "shell.execute_reply": "2021-09-23T21:20:24.314625Z",
     "shell.execute_reply.started": "2021-09-23T15:48:53.662894Z"
    },
    "papermill": {
     "duration": 1.07377,
     "end_time": "2021-09-23T21:20:24.315155",
     "exception": false,
     "start_time": "2021-09-23T21:20:23.241385",
     "status": "completed"
    },
    "tags": []
   },
   "outputs": [
    {
     "data": {
      "image/png": "[encoded data removed]",
      "text/plain": [
       "<Figure size 864x288 with 1 Axes>"
      ]
     },
     "metadata": {
      "needs_background": "light"
     },
     "output_type": "display_data"
    },
    {
     "data": {
      "image/png": "[encoded data removed]",
      "text/plain": [
       "<Figure size 864x288 with 1 Axes>"
      ]
     },
     "metadata": {
      "needs_background": "light"
     },
     "output_type": "display_data"
    },
    {
     "data": {
      "image/png": "[encoded data removed]",
      "text/plain": [
       "<Figure size 864x288 with 1 Axes>"
      ]
     },
     "metadata": {
      "needs_background": "light"
     },
     "output_type": "display_data"
    },
    {
     "data": {
      "image/png": "[encoded data removed]",
      "text/plain": [
       "<Figure size 864x288 with 1 Axes>"
      ]
     },
     "metadata": {
      "needs_background": "light"
     },
     "output_type": "display_data"
    }
   ],
   "source": [
    "for i in df['breath_id'].unique():\n",
    "    plot_sample(i, df_train)"
   ]
  },
  {
   "cell_type": "markdown",
   "metadata": {
    "papermill": {
     "duration": 0.026252,
     "end_time": "2021-09-23T21:20:24.368337",
     "exception": false,
     "start_time": "2021-09-23T21:20:24.342085",
     "status": "completed"
    },
    "tags": []
   },
   "source": [
    "### Dataset"
   ]
  },
  {
   "cell_type": "code",
   "execution_count": 55,
   "metadata": {
    "_kg_hide-input": true,
    "execution": {
     "iopub.execute_input": "2021-09-23T21:20:24.431133Z",
     "iopub.status.busy": "2021-09-23T21:20:24.430620Z",
     "iopub.status.idle": "2021-09-23T21:20:28.844254Z",
     "shell.execute_reply": "2021-09-23T21:20:28.843166Z",
     "shell.execute_reply.started": "2021-09-23T15:48:54.529633Z"
    },
    "papermill": {
     "duration": 4.449471,
     "end_time": "2021-09-23T21:20:28.844418",
     "exception": false,
     "start_time": "2021-09-23T21:20:24.394947",
     "status": "completed"
    },
    "tags": []
   },
   "outputs": [],
   "source": [
    "import torch\n",
    "from torch.utils.data import Dataset\n",
    "\n",
    "class VentilatorDataset(Dataset):\n",
    "    def __init__(self, df):\n",
    "        if \"pressure\" not in df.columns:\n",
    "            df['pressure'] = 0\n",
    "            \n",
    "        self.df = df.groupby('breath_id').agg(list).reset_index()\n",
    "\n",
    "        self.prepare_data()\n",
    "\n",
    "    def __len__(self):\n",
    "        return self.df.shape[0]\n",
    "\n",
    "    def prepare_data(self):\n",
    "        self.pressures = np.array(self.df['pressure'].values.tolist())\n",
    "\n",
    "        u_ins = np.array(self.df['u_in'].values.tolist())\n",
    "        area = np.array(self.df['area'].values.tolist())\n",
    "        u_in_lag1 = np.array(self.df['u_in_lag1'].values.tolist())\n",
    "        u_out_lag1 = np.array(self.df['u_out_lag1'].values.tolist())\n",
    "        u_in_lag_back1 = np.array(self.df['u_in_lag_back1'].values.tolist())\n",
    "        u_out_lag_back1 = np.array(self.df['u_out_lag_back1'].values.tolist())\n",
    "        u_in_lag2 = np.array(self.df['u_in_lag2'].values.tolist())\n",
    "        u_out_lag2 = np.array(self.df['u_out_lag2'].values.tolist())\n",
    "        u_in_lag3 = np.array(self.df['u_in_lag3'].values.tolist())\n",
    "        u_out_lag3 = np.array(self.df['u_out_lag3'].values.tolist())\n",
    "        u_in_lag_back3 = np.array(self.df['u_in_lag_back3'].values.tolist())\n",
    "        u_out_lag_back3 = np.array(self.df['u_out_lag_back3'].values.tolist())\n",
    "        u_in_lag4 = np.array(self.df['u_in_lag4'].values.tolist())\n",
    "        u_out_lag4 = np.array(self.df['u_out_lag4'].values.tolist())\n",
    "        u_in_lag_back4 = np.array(self.df['u_in_lag_back4'].values.tolist())\n",
    "        u_out_lag_back4 = np.array(self.df['u_out_lag_back4'].values.tolist())\n",
    "        \n",
    "        breath_id__u_in__max = np.array(self.df['breath_id__u_in__max'].values.tolist())\n",
    "        breath_id__u_out__max = np.array(self.df['breath_id__u_out__max'].values.tolist())\n",
    "        u_in_diff1 = np.array(self.df['u_in_diff1'].values.tolist())\n",
    "        u_out_diff1 = np.array(self.df['u_out_diff1'].values.tolist())\n",
    "        u_in_diff2 = np.array(self.df['u_in_diff2'].values.tolist())\n",
    "        u_out_diff2 = np.array(self.df['u_out_diff2'].values.tolist())\n",
    "        breath_id__u_in__diffmax = np.array(self.df['breath_id__u_in__diffmax'].values.tolist())\n",
    "        breath_id__u_in__diffmean = np.array(self.df['breath_id__u_in__diffmean'].values.tolist())\n",
    "        u_in_diff3 = np.array(self.df['u_in_diff3'].values.tolist())\n",
    "        u_out_diff3 = np.array(self.df['u_out_diff3'].values.tolist())\n",
    "        u_in_diff4 = np.array(self.df['u_in_diff4'].values.tolist())\n",
    "        u_out_diff4 = np.array(self.df['u_out_diff4'].values.tolist())\n",
    "        cross = np.array(self.df['cross'].values.tolist())\n",
    "        cross2 = np.array(self.df['cross2'].values.tolist())\n",
    "        \n",
    "        R_20 = np.array(self.df['R_20'].values.tolist())\n",
    "        R_5 = np.array(self.df['R_5'].values.tolist())\n",
    "        R_50 = np.array(self.df['R_50'].values.tolist())\n",
    "        C_10 = np.array(self.df['C_10'].values.tolist())\n",
    "        C_20 = np.array(self.df['C_20'].values.tolist())\n",
    "        C_50 = np.array(self.df['C_50'].values.tolist())\n",
    "        R__C_20__10 = np.array(self.df['R__C_20__10'].values.tolist())\n",
    "        R__C_20__20 = np.array(self.df['R__C_20__20'].values.tolist())\n",
    "        R__C_20__50 = np.array(self.df['R__C_20__50'].values.tolist())\n",
    "        R__C_50__10 = np.array(self.df['R__C_50__10'].values.tolist())\n",
    "        R__C_50__20 = np.array(self.df['R__C_50__20'].values.tolist())\n",
    "        R__C_50__50 = np.array(self.df['R__C_50__50'].values.tolist())\n",
    "        R__C_5__10 = np.array(self.df['R__C_5__10'].values.tolist())\n",
    "        R__C_5__20 = np.array(self.df['R__C_5__20'].values.tolist())\n",
    "        R__C_5__50 = np.array(self.df['R__C_5__50'].values.tolist())\n",
    "        \n",
    "\n",
    "        self.u_outs = np.array(self.df['u_out'].values.tolist())\n",
    "        \n",
    "        self.inputs = np.concatenate([\n",
    "            u_ins[:, None], \n",
    "            np.cumsum(u_ins, 1)[:, None],\n",
    "            self.u_outs[:, None],\n",
    "            area[:, None], \n",
    "            u_in_lag1[:, None], \n",
    "            u_out_lag1[:, None], \n",
    "            u_in_lag_back1[:, None], \n",
    "            u_out_lag_back1[:, None], \n",
    "            u_in_lag2[:, None], \n",
    "            u_out_lag2[:, None], \n",
    "            u_in_lag3[:, None], \n",
    "            u_out_lag3[:, None], \n",
    "            u_in_lag_back3[:, None], \n",
    "            u_out_lag_back3[:, None], \n",
    "            u_in_lag4[:, None], \n",
    "            u_out_lag4[:, None], \n",
    "            u_in_lag_back4[:, None], \n",
    "            u_out_lag_back4[:, None],\n",
    "            breath_id__u_in__max[:, None],\n",
    "            breath_id__u_out__max[:, None],\n",
    "            u_in_diff1[:, None],\n",
    "            u_out_diff1[:, None],\n",
    "            u_in_diff2[:, None],\n",
    "            u_out_diff2[:, None],\n",
    "            breath_id__u_in__diffmax[:, None],\n",
    "            breath_id__u_in__diffmean[:, None],\n",
    "            u_in_diff3[:, None],\n",
    "            u_out_diff3[:, None],\n",
    "            u_in_diff4[:, None],\n",
    "            u_out_diff4[:, None],\n",
    "            cross[:, None],\n",
    "            cross2[:, None],\n",
    "            R_20[:, None],\n",
    "            R_5[:, None],\n",
    "            R_50[:, None],\n",
    "            C_10[:, None],\n",
    "            C_20[:, None],\n",
    "            C_50[:, None],\n",
    "            R__C_20__10[:, None],\n",
    "            R__C_20__20[:, None],\n",
    "            R__C_20__50[:, None],\n",
    "            R__C_50__10[:, None],\n",
    "            R__C_50__20[:, None],\n",
    "            R__C_50__50[:, None],\n",
    "            R__C_5__10[:, None],\n",
    "            R__C_5__20[:, None],\n",
    "            R__C_5__50[:, None]\n",
    "        ], 1).transpose(0, 2, 1)\n",
    "\n",
    "    def __getitem__(self, idx):\n",
    "        data = {\n",
    "            \"input\": torch.tensor(self.inputs[idx], dtype=torch.float),\n",
    "            \"u_out\": torch.tensor(self.u_outs[idx], dtype=torch.float),\n",
    "            \"p\": torch.tensor(self.pressures[idx], dtype=torch.float),\n",
    "        }\n",
    "        \n",
    "        return data"
   ]
  },
  {
   "cell_type": "code",
   "execution_count": 60,
   "metadata": {
    "_kg_hide-input": false,
    "_kg_hide-output": true,
    "execution": {
     "iopub.execute_input": "2021-09-23T21:20:28.928779Z",
     "iopub.status.busy": "2021-09-23T21:20:28.928083Z",
     "iopub.status.idle": "2021-09-23T21:20:28.996727Z",
     "shell.execute_reply": "2021-09-23T21:20:28.997114Z",
     "shell.execute_reply.started": "2021-09-23T15:48:54.542342Z"
    },
    "papermill": {
     "duration": 0.124855,
     "end_time": "2021-09-23T21:20:28.997259",
     "exception": false,
     "start_time": "2021-09-23T21:20:28.872404",
     "status": "completed"
    },
    "tags": []
   },
   "outputs": [
    {
     "data": {
      "text/plain": [
       "{'input': tensor([[8.3334e-02, 8.3334e-02, 0.0000e+00,  ..., 0.0000e+00, 0.0000e+00,\n",
       "          0.0000e+00],\n",
       "         [1.8383e+01, 1.8466e+01, 0.0000e+00,  ..., 0.0000e+00, 0.0000e+00,\n",
       "          0.0000e+00],\n",
       "         [2.2509e+01, 4.0976e+01, 0.0000e+00,  ..., 0.0000e+00, 0.0000e+00,\n",
       "          0.0000e+00],\n",
       "         ...,\n",
       "         [4.9818e+00, 8.0171e+02, 1.0000e+00,  ..., 0.0000e+00, 0.0000e+00,\n",
       "          0.0000e+00],\n",
       "         [4.9847e+00, 8.0669e+02, 1.0000e+00,  ..., 0.0000e+00, 0.0000e+00,\n",
       "          0.0000e+00],\n",
       "         [4.9871e+00, 8.1168e+02, 1.0000e+00,  ..., 0.0000e+00, 0.0000e+00,\n",
       "          0.0000e+00]]),\n",
       " 'u_out': tensor([0., 0., 0., 0., 0., 0., 0., 0., 0., 0., 0., 0., 0., 0., 0., 0., 0., 0.,\n",
       "         0., 0., 0., 0., 0., 0., 0., 0., 0., 0., 0., 0., 1., 1., 1., 1., 1., 1.,\n",
       "         1., 1., 1., 1., 1., 1., 1., 1., 1., 1., 1., 1., 1., 1., 1., 1., 1., 1.,\n",
       "         1., 1., 1., 1., 1., 1., 1., 1., 1., 1., 1., 1., 1., 1., 1., 1., 1., 1.,\n",
       "         1., 1., 1., 1., 1., 1., 1., 1.]),\n",
       " 'p': tensor([ 5.8375,  5.9078,  7.8763, 11.7429, 12.2350, 12.8677, 14.6956, 15.8907,\n",
       "         15.5392, 15.7501, 17.2967, 17.2264, 16.1719, 17.3670, 18.0701, 17.1561,\n",
       "         18.2810, 18.7731, 17.8592, 19.1246, 19.3355, 18.4919, 18.5622, 18.6325,\n",
       "         18.8434, 19.0543, 19.2652, 19.3355, 19.3355, 19.4761, 19.5464, 17.0155,\n",
       "          9.5635,  7.8763,  8.6496,  7.5950,  7.6653,  8.2981,  7.2435,  7.9466,\n",
       "          7.5950,  7.4544,  8.1575,  6.8217,  7.1732,  7.5247,  6.9623,  7.4544,\n",
       "          7.5950,  7.1732,  7.7356,  7.2435,  7.5950,  7.3841,  7.2435,  7.7356,\n",
       "          7.5247,  6.9623,  7.1029,  7.3138,  6.1187,  7.0326,  6.8217,  6.5405,\n",
       "          6.9623,  6.8217,  6.5405,  6.8217,  6.8217,  6.3999,  6.7514,  6.5405,\n",
       "          6.3999,  6.7514,  6.4702,  6.3999,  6.6108,  6.3296,  6.5405,  6.4702])}"
      ]
     },
     "execution_count": 60,
     "metadata": {},
     "output_type": "execute_result"
    }
   ],
   "source": [
    "dataset = VentilatorDataset(df_train)\n",
    "dataset[0]"
   ]
  },
  {
   "cell_type": "code",
   "execution_count": 66,
   "metadata": {},
   "outputs": [
    {
     "data": {
      "text/plain": [
       "(75450, 80, 47)"
      ]
     },
     "execution_count": 66,
     "metadata": {},
     "output_type": "execute_result"
    }
   ],
   "source": [
    "dataset.inputs.shape"
   ]
  },
  {
   "cell_type": "markdown",
   "metadata": {
    "papermill": {
     "duration": 0.026392,
     "end_time": "2021-09-23T21:20:29.050571",
     "exception": false,
     "start_time": "2021-09-23T21:20:29.024179",
     "status": "completed"
    },
    "tags": []
   },
   "source": [
    "## Model\n",
    "- 2 Layer MLP\n",
    "- Bidirectional LSTM\n",
    "- Prediction dense layer"
   ]
  },
  {
   "cell_type": "code",
   "execution_count": 11,
   "metadata": {
    "_kg_hide-input": true,
    "execution": {
     "iopub.execute_input": "2021-09-23T21:20:29.113019Z",
     "iopub.status.busy": "2021-09-23T21:20:29.111656Z",
     "iopub.status.idle": "2021-09-23T21:20:29.113666Z",
     "shell.execute_reply": "2021-09-23T21:20:29.114055Z",
     "shell.execute_reply.started": "2021-09-23T15:48:54.590057Z"
    },
    "papermill": {
     "duration": 0.036883,
     "end_time": "2021-09-23T21:20:29.114168",
     "exception": false,
     "start_time": "2021-09-23T21:20:29.077285",
     "status": "completed"
    },
    "tags": []
   },
   "outputs": [],
   "source": [
    "import torch\n",
    "import torch.nn as nn\n",
    "\n",
    "\n",
    "class RNNModel(nn.Module):\n",
    "    def __init__(\n",
    "        self,\n",
    "        input_dim=4,\n",
    "        lstm_dim=256,\n",
    "        dense_dim=256,\n",
    "        logit_dim=256,\n",
    "        num_classes=1,\n",
    "    ):\n",
    "        super().__init__()\n",
    "\n",
    "        self.mlp = nn.Sequential(\n",
    "            nn.Linear(input_dim, dense_dim // 2),\n",
    "            nn.ReLU(),\n",
    "            nn.Linear(dense_dim // 2, dense_dim),\n",
    "            nn.ReLU(),\n",
    "        )\n",
    "\n",
    "        self.lstm = nn.LSTM(dense_dim, lstm_dim, batch_first=True, bidirectional=True)\n",
    "\n",
    "        self.logits = nn.Sequential(\n",
    "            nn.Linear(lstm_dim * 2, logit_dim),\n",
    "            nn.ReLU(),\n",
    "            nn.Linear(logit_dim, num_classes),\n",
    "        )\n",
    "\n",
    "    def forward(self, x):\n",
    "        features = self.mlp(x)\n",
    "        features, _ = self.lstm(features)\n",
    "        pred = self.logits(features)\n",
    "        return pred"
   ]
  },
  {
   "cell_type": "markdown",
   "metadata": {
    "papermill": {
     "duration": 0.025924,
     "end_time": "2021-09-23T21:20:29.167623",
     "exception": false,
     "start_time": "2021-09-23T21:20:29.141699",
     "status": "completed"
    },
    "tags": []
   },
   "source": [
    "## Training"
   ]
  },
  {
   "cell_type": "markdown",
   "metadata": {
    "papermill": {
     "duration": 0.026663,
     "end_time": "2021-09-23T21:20:29.220736",
     "exception": false,
     "start_time": "2021-09-23T21:20:29.194073",
     "status": "completed"
    },
    "tags": []
   },
   "source": [
    "### Utils"
   ]
  },
  {
   "cell_type": "code",
   "execution_count": 12,
   "metadata": {
    "_kg_hide-input": true,
    "execution": {
     "iopub.execute_input": "2021-09-23T21:20:29.282718Z",
     "iopub.status.busy": "2021-09-23T21:20:29.282082Z",
     "iopub.status.idle": "2021-09-23T21:20:29.284948Z",
     "shell.execute_reply": "2021-09-23T21:20:29.285306Z",
     "shell.execute_reply.started": "2021-09-23T15:48:54.599968Z"
    },
    "jupyter": {
     "source_hidden": true
    },
    "papermill": {
     "duration": 0.038433,
     "end_time": "2021-09-23T21:20:29.285434",
     "exception": false,
     "start_time": "2021-09-23T21:20:29.247001",
     "status": "completed"
    },
    "tags": []
   },
   "outputs": [],
   "source": [
    "import os\n",
    "import torch\n",
    "import random\n",
    "import numpy as np\n",
    "\n",
    "\n",
    "def seed_everything(seed):\n",
    "    \"\"\"\n",
    "    Seeds basic parameters for reproductibility of results.\n",
    "\n",
    "    Args:\n",
    "        seed (int): Number of the seed.\n",
    "    \"\"\"\n",
    "    random.seed(seed)\n",
    "    os.environ[\"PYTHONHASHSEED\"] = str(seed)\n",
    "    np.random.seed(seed)\n",
    "    torch.manual_seed(seed)\n",
    "    torch.cuda.manual_seed(seed)\n",
    "    torch.backends.cudnn.deterministic = True\n",
    "    torch.backends.cudnn.benchmark = False\n",
    "    \n",
    "    \n",
    "def count_parameters(model, all=False):\n",
    "    \"\"\"\n",
    "    Counts the parameters of a model.\n",
    "\n",
    "    Args:\n",
    "        model (torch model): Model to count the parameters of.\n",
    "        all (bool, optional):  Whether to count not trainable parameters. Defaults to False.\n",
    "\n",
    "    Returns:\n",
    "        int: Number of parameters.\n",
    "    \"\"\"\n",
    "    if all:\n",
    "        return sum(p.numel() for p in model.parameters())\n",
    "    else:\n",
    "        return sum(p.numel() for p in model.parameters() if p.requires_grad)\n",
    "\n",
    "    \n",
    "def worker_init_fn(worker_id):\n",
    "    \"\"\"\n",
    "    Handles PyTorch x Numpy seeding issues.\n",
    "\n",
    "    Args:\n",
    "        worker_id (int): Id of the worker.\n",
    "    \"\"\"\n",
    "    np.random.seed(np.random.get_state()[1][0] + worker_id)\n",
    "    \n",
    "\n",
    "def save_model_weights(model, filename, verbose=1, cp_folder=\"\"):\n",
    "    \"\"\"\n",
    "    Saves the weights of a PyTorch model.\n",
    "\n",
    "    Args:\n",
    "        model (torch model): Model to save the weights of.\n",
    "        filename (str): Name of the checkpoint.\n",
    "        verbose (int, optional): Whether to display infos. Defaults to 1.\n",
    "        cp_folder (str, optional): Folder to save to. Defaults to \"\".\n",
    "    \"\"\"\n",
    "    if verbose:\n",
    "        print(f\"\\n -> Saving weights to {os.path.join(cp_folder, filename)}\\n\")\n",
    "    torch.save(model.state_dict(), os.path.join(cp_folder, filename))"
   ]
  },
  {
   "cell_type": "markdown",
   "metadata": {
    "papermill": {
     "duration": 0.026605,
     "end_time": "2021-09-23T21:20:29.338762",
     "exception": false,
     "start_time": "2021-09-23T21:20:29.312157",
     "status": "completed"
    },
    "tags": []
   },
   "source": [
    "### Metric & Loss\n",
    "> The competition will be scored as the mean absolute error between the predicted and actual pressures during the inspiratory phase of each breath. The expiratory phase is not scored."
   ]
  },
  {
   "cell_type": "code",
   "execution_count": 13,
   "metadata": {
    "_kg_hide-input": true,
    "execution": {
     "iopub.execute_input": "2021-09-23T21:20:29.399169Z",
     "iopub.status.busy": "2021-09-23T21:20:29.398506Z",
     "iopub.status.idle": "2021-09-23T21:20:29.401469Z",
     "shell.execute_reply": "2021-09-23T21:20:29.401044Z",
     "shell.execute_reply.started": "2021-09-23T15:48:54.613905Z"
    },
    "jupyter": {
     "source_hidden": true
    },
    "papermill": {
     "duration": 0.035787,
     "end_time": "2021-09-23T21:20:29.401570",
     "exception": false,
     "start_time": "2021-09-23T21:20:29.365783",
     "status": "completed"
    },
    "tags": []
   },
   "outputs": [],
   "source": [
    "def compute_metric(df, preds):\n",
    "    \"\"\"\n",
    "    Metric for the problem, as I understood it.\n",
    "    \"\"\"\n",
    "    \n",
    "    y = np.array(df['pressure'].values.tolist())\n",
    "    w = 1 - np.array(df['u_out'].values.tolist())\n",
    "    \n",
    "    assert y.shape == preds.shape and w.shape == y.shape, (y.shape, preds.shape, w.shape)\n",
    "    \n",
    "    mae = w * np.abs(y - preds)\n",
    "    mae = mae.sum() / w.sum()\n",
    "    \n",
    "    return mae\n",
    "\n",
    "\n",
    "class VentilatorLoss(nn.Module):\n",
    "    \"\"\"\n",
    "    Directly optimizes the competition metric\n",
    "    \"\"\"\n",
    "    def __call__(self, preds, y, u_out):\n",
    "        w = 1 - u_out\n",
    "        mae = w * (y - preds).abs()\n",
    "        mae = mae.sum(-1) / w.sum(-1)\n",
    "\n",
    "        return mae"
   ]
  },
  {
   "cell_type": "markdown",
   "metadata": {
    "papermill": {
     "duration": 0.026469,
     "end_time": "2021-09-23T21:20:29.454938",
     "exception": false,
     "start_time": "2021-09-23T21:20:29.428469",
     "status": "completed"
    },
    "tags": []
   },
   "source": [
    "### Fit"
   ]
  },
  {
   "cell_type": "code",
   "execution_count": 14,
   "metadata": {
    "_kg_hide-input": true,
    "_kg_hide-output": true,
    "execution": {
     "iopub.execute_input": "2021-09-23T21:20:29.525199Z",
     "iopub.status.busy": "2021-09-23T21:20:29.510843Z",
     "iopub.status.idle": "2021-09-23T21:20:33.683962Z",
     "shell.execute_reply": "2021-09-23T21:20:33.682973Z",
     "shell.execute_reply.started": "2021-09-23T15:48:54.625694Z"
    },
    "jupyter": {
     "source_hidden": true
    },
    "papermill": {
     "duration": 4.202247,
     "end_time": "2021-09-23T21:20:33.684099",
     "exception": false,
     "start_time": "2021-09-23T21:20:29.481852",
     "status": "completed"
    },
    "tags": []
   },
   "outputs": [],
   "source": [
    "import gc\n",
    "import time\n",
    "import torch\n",
    "import numpy as np\n",
    "from torch.utils.data import DataLoader\n",
    "from transformers import get_linear_schedule_with_warmup\n",
    "\n",
    "\n",
    "def fit(\n",
    "    model,\n",
    "    train_dataset,\n",
    "    val_dataset,\n",
    "    loss_name=\"L1Loss\",\n",
    "    optimizer=\"Adam\",\n",
    "    epochs=50,\n",
    "    batch_size=32,\n",
    "    val_bs=32,\n",
    "    warmup_prop=0.1,\n",
    "    lr=1e-3,\n",
    "    num_classes=1,\n",
    "    verbose=1,\n",
    "    first_epoch_eval=0,\n",
    "    device=\"cuda\"\n",
    "):\n",
    "    avg_val_loss = 0.\n",
    "\n",
    "    # Optimizer\n",
    "    optimizer = getattr(torch.optim, optimizer)(model.parameters(), lr=lr)\n",
    "\n",
    "    # Data loaders\n",
    "    train_loader = DataLoader(\n",
    "        train_dataset,\n",
    "        batch_size=batch_size,\n",
    "        shuffle=True,\n",
    "        drop_last=True,\n",
    "        num_workers=NUM_WORKERS,\n",
    "        pin_memory=True,\n",
    "        worker_init_fn=worker_init_fn\n",
    "    )\n",
    "\n",
    "    val_loader = DataLoader(\n",
    "        val_dataset,\n",
    "        batch_size=val_bs,\n",
    "        shuffle=False,\n",
    "        num_workers=NUM_WORKERS,\n",
    "        pin_memory=True,\n",
    "    )\n",
    "\n",
    "    # Loss\n",
    "#     loss_fct = getattr(torch.nn, loss_name)(reduction=\"none\")\n",
    "    loss_fct = VentilatorLoss()\n",
    "\n",
    "    # Scheduler\n",
    "    num_warmup_steps = int(warmup_prop * epochs * len(train_loader))\n",
    "    num_training_steps = int(epochs * len(train_loader))\n",
    "    scheduler = get_linear_schedule_with_warmup(\n",
    "        optimizer, num_warmup_steps, num_training_steps\n",
    "    )\n",
    "\n",
    "    for epoch in range(epochs):\n",
    "        model.train()\n",
    "        model.zero_grad()\n",
    "        start_time = time.time()\n",
    "\n",
    "        avg_loss = 0\n",
    "        for data in train_loader:\n",
    "            pred = model(data['input'].to(device)).squeeze(-1)\n",
    "\n",
    "            loss = loss_fct(\n",
    "                pred,\n",
    "                data['p'].to(device),\n",
    "                data['u_out'].to(device),\n",
    "            ).mean()\n",
    "            loss.backward()\n",
    "            avg_loss += loss.item() / len(train_loader)\n",
    "\n",
    "            optimizer.step()\n",
    "            scheduler.step()\n",
    "\n",
    "            for param in model.parameters():\n",
    "                param.grad = None\n",
    "\n",
    "        model.eval()\n",
    "        mae, avg_val_loss = 0, 0\n",
    "        preds = []\n",
    "\n",
    "        with torch.no_grad():\n",
    "            for data in val_loader:\n",
    "                pred = model(data['input'].to(device)).squeeze(-1)\n",
    "\n",
    "                loss = loss_fct(\n",
    "                    pred.detach(), \n",
    "                    data['p'].to(device),\n",
    "                    data['u_out'].to(device),\n",
    "                ).mean()\n",
    "                avg_val_loss += loss.item() / len(val_loader)\n",
    "\n",
    "                preds.append(pred.detach().cpu().numpy())\n",
    "        \n",
    "        preds = np.concatenate(preds, 0)\n",
    "        mae = compute_metric(val_dataset.df, preds)\n",
    "\n",
    "        elapsed_time = time.time() - start_time\n",
    "        if (epoch + 1) % verbose == 0:\n",
    "            elapsed_time = elapsed_time * verbose\n",
    "            lr = scheduler.get_last_lr()[0]\n",
    "            print(\n",
    "                f\"Epoch {epoch + 1:02d}/{epochs:02d} \\t lr={lr:.1e}\\t t={elapsed_time:.0f}s \\t\"\n",
    "                f\"loss={avg_loss:.3f}\",\n",
    "                end=\"\\t\",\n",
    "            )\n",
    "\n",
    "            if (epoch + 1 >= first_epoch_eval) or (epoch + 1 == epochs):\n",
    "                print(f\"val_loss={avg_val_loss:.3f}\\tmae={mae:.3f}\")\n",
    "            else:\n",
    "                print(\"\")\n",
    "\n",
    "    del (val_loader, train_loader, loss, data, pred)\n",
    "    gc.collect()\n",
    "    torch.cuda.empty_cache()\n",
    "\n",
    "    return preds\n"
   ]
  },
  {
   "cell_type": "markdown",
   "metadata": {
    "papermill": {
     "duration": 0.026411,
     "end_time": "2021-09-23T21:20:33.737928",
     "exception": false,
     "start_time": "2021-09-23T21:20:33.711517",
     "status": "completed"
    },
    "tags": []
   },
   "source": [
    "### Predict"
   ]
  },
  {
   "cell_type": "code",
   "execution_count": 15,
   "metadata": {
    "_kg_hide-input": true,
    "execution": {
     "iopub.execute_input": "2021-09-23T21:20:33.798521Z",
     "iopub.status.busy": "2021-09-23T21:20:33.797713Z",
     "iopub.status.idle": "2021-09-23T21:20:33.800099Z",
     "shell.execute_reply": "2021-09-23T21:20:33.800492Z",
     "shell.execute_reply.started": "2021-09-23T15:48:54.646942Z"
    },
    "jupyter": {
     "source_hidden": true
    },
    "papermill": {
     "duration": 0.035476,
     "end_time": "2021-09-23T21:20:33.800615",
     "exception": false,
     "start_time": "2021-09-23T21:20:33.765139",
     "status": "completed"
    },
    "tags": []
   },
   "outputs": [],
   "source": [
    "def predict(\n",
    "    model,\n",
    "    dataset,\n",
    "    batch_size=64,\n",
    "    device=\"cuda\"\n",
    "):\n",
    "    \"\"\"\n",
    "    Usual torch predict function. Supports sigmoid and softmax activations.\n",
    "    Args:\n",
    "        model (torch model): Model to predict with.\n",
    "        dataset (PathologyDataset): Dataset to predict on.\n",
    "        batch_size (int, optional): Batch size. Defaults to 64.\n",
    "        device (str, optional): Device for torch. Defaults to \"cuda\".\n",
    "\n",
    "    Returns:\n",
    "        numpy array [len(dataset) x num_classes]: Predictions.\n",
    "    \"\"\"\n",
    "    model.eval()\n",
    "\n",
    "    loader = DataLoader(\n",
    "        dataset, batch_size=batch_size, shuffle=False, num_workers=NUM_WORKERS\n",
    "    )\n",
    "    \n",
    "    preds = []\n",
    "    with torch.no_grad():\n",
    "        for data in loader:\n",
    "            pred = model(data['input'].to(device)).squeeze(-1)\n",
    "            preds.append(pred.detach().cpu().numpy())\n",
    "\n",
    "    preds = np.concatenate(preds, 0)\n",
    "    return preds"
   ]
  },
  {
   "cell_type": "markdown",
   "metadata": {
    "papermill": {
     "duration": 0.026928,
     "end_time": "2021-09-23T21:20:33.854511",
     "exception": false,
     "start_time": "2021-09-23T21:20:33.827583",
     "status": "completed"
    },
    "tags": []
   },
   "source": [
    "## Train"
   ]
  },
  {
   "cell_type": "code",
   "execution_count": 16,
   "metadata": {
    "_kg_hide-input": true,
    "execution": {
     "iopub.execute_input": "2021-09-23T21:20:33.920637Z",
     "iopub.status.busy": "2021-09-23T21:20:33.919930Z",
     "iopub.status.idle": "2021-09-23T21:20:33.922505Z",
     "shell.execute_reply": "2021-09-23T21:20:33.922082Z",
     "shell.execute_reply.started": "2021-09-23T15:48:54.659813Z"
    },
    "jupyter": {
     "source_hidden": true
    },
    "papermill": {
     "duration": 0.040784,
     "end_time": "2021-09-23T21:20:33.922605",
     "exception": false,
     "start_time": "2021-09-23T21:20:33.881821",
     "status": "completed"
    },
    "tags": []
   },
   "outputs": [],
   "source": [
    "def train(config, df_train, df_val, df_test, fold):\n",
    "    \"\"\"\n",
    "    Trains and validate a model.\n",
    "\n",
    "    Args:\n",
    "        config (Config): Parameters.\n",
    "        df_train (pandas dataframe): Training metadata.\n",
    "        df_val (pandas dataframe): Validation metadata.\n",
    "        df_test (pandas dataframe): Test metadata.\n",
    "        fold (int): Selected fold.\n",
    "\n",
    "    Returns:\n",
    "        np array: Study validation predictions.\n",
    "    \"\"\"\n",
    "\n",
    "    seed_everything(config.seed)\n",
    "\n",
    "    model = RNNModel(\n",
    "        input_dim=config.input_dim,\n",
    "        lstm_dim=config.lstm_dim,\n",
    "        dense_dim=config.dense_dim,\n",
    "        logit_dim=config.logit_dim,\n",
    "        num_classes=config.num_classes,\n",
    "    ).to(config.device)\n",
    "    model=nn.DataParallel(model,device_ids=[0,1,2]) # multi-GPU\n",
    "    model.zero_grad()\n",
    "\n",
    "    train_dataset = VentilatorDataset(df_train)\n",
    "    val_dataset = VentilatorDataset(df_val)\n",
    "    test_dataset = VentilatorDataset(df_test)\n",
    "\n",
    "    n_parameters = count_parameters(model)\n",
    "\n",
    "    print(f\"    -> {len(train_dataset)} training breathes\")\n",
    "    print(f\"    -> {len(val_dataset)} validation breathes\")\n",
    "    print(f\"    -> {n_parameters} trainable parameters\\n\")\n",
    "\n",
    "    pred_val = fit(\n",
    "        model,\n",
    "        train_dataset,\n",
    "        val_dataset,\n",
    "        loss_name=config.loss,\n",
    "        optimizer=config.optimizer,\n",
    "        epochs=config.epochs,\n",
    "        batch_size=config.batch_size,\n",
    "        val_bs=config.val_bs,\n",
    "        lr=config.lr,\n",
    "        warmup_prop=config.warmup_prop,\n",
    "        verbose=config.verbose,\n",
    "        first_epoch_eval=config.first_epoch_eval,\n",
    "        device=config.device,\n",
    "    )\n",
    "    \n",
    "    pred_test = predict(\n",
    "        model, \n",
    "        test_dataset, \n",
    "        batch_size=config.val_bs, \n",
    "        device=config.device\n",
    "    )\n",
    "\n",
    "    if config.save_weights:\n",
    "        save_model_weights(\n",
    "            model,\n",
    "            f\"{config.selected_model}_{fold}.pt\",\n",
    "            cp_folder=\"\",\n",
    "        )\n",
    "\n",
    "    del (model, train_dataset, val_dataset, test_dataset)\n",
    "    gc.collect()\n",
    "    torch.cuda.empty_cache()\n",
    "\n",
    "    return pred_val, pred_test"
   ]
  },
  {
   "cell_type": "markdown",
   "metadata": {
    "papermill": {
     "duration": 0.026904,
     "end_time": "2021-09-23T21:20:33.976321",
     "exception": false,
     "start_time": "2021-09-23T21:20:33.949417",
     "status": "completed"
    },
    "tags": []
   },
   "source": [
    "### $k$-fold"
   ]
  },
  {
   "cell_type": "code",
   "execution_count": 17,
   "metadata": {
    "_kg_hide-input": true,
    "execution": {
     "iopub.execute_input": "2021-09-23T21:20:34.037608Z",
     "iopub.status.busy": "2021-09-23T21:20:34.037074Z",
     "iopub.status.idle": "2021-09-23T21:20:34.153095Z",
     "shell.execute_reply": "2021-09-23T21:20:34.153511Z",
     "shell.execute_reply.started": "2021-09-23T15:48:54.674412Z"
    },
    "papermill": {
     "duration": 0.14998,
     "end_time": "2021-09-23T21:20:34.153642",
     "exception": false,
     "start_time": "2021-09-23T21:20:34.003662",
     "status": "completed"
    },
    "tags": []
   },
   "outputs": [],
   "source": [
    "from sklearn.model_selection import GroupKFold\n",
    "\n",
    "def k_fold(config, df, df_test):\n",
    "    \"\"\"\n",
    "    Performs a patient grouped k-fold cross validation.\n",
    "    \"\"\"\n",
    "\n",
    "    pred_oof = np.zeros(len(df))\n",
    "    preds_test = []\n",
    "    \n",
    "    gkf = GroupKFold(n_splits=config.k)\n",
    "    splits = list(gkf.split(X=df, y=df, groups=df[\"breath_id\"]))\n",
    "\n",
    "    for i, (train_idx, val_idx) in enumerate(splits):\n",
    "        if i in config.selected_folds:\n",
    "            print(f\"\\n-------------   Fold {i + 1} / {config.k}  -------------\\n\")\n",
    "\n",
    "            df_train = df.iloc[train_idx].copy().reset_index(drop=True)\n",
    "            df_val = df.iloc[val_idx].copy().reset_index(drop=True)\n",
    "\n",
    "            pred_val, pred_test = train(config, df_train, df_val, df_test, i)\n",
    "            \n",
    "            pred_oof[val_idx] = pred_val.flatten()\n",
    "            preds_test.append(pred_test.flatten())\n",
    "\n",
    "    print(f'\\n -> CV MAE : {compute_metric(df, pred_oof) :.3f}')\n",
    "\n",
    "    return pred_oof, np.mean(preds_test, 0)"
   ]
  },
  {
   "cell_type": "markdown",
   "metadata": {
    "papermill": {
     "duration": 0.027243,
     "end_time": "2021-09-23T21:20:34.208354",
     "exception": false,
     "start_time": "2021-09-23T21:20:34.181111",
     "status": "completed"
    },
    "tags": []
   },
   "source": [
    "## Main"
   ]
  },
  {
   "cell_type": "code",
   "execution_count": 18,
   "metadata": {
    "execution": {
     "iopub.execute_input": "2021-09-23T21:20:34.265433Z",
     "iopub.status.busy": "2021-09-23T21:20:34.264658Z",
     "iopub.status.idle": "2021-09-23T21:20:34.317652Z",
     "shell.execute_reply": "2021-09-23T21:20:34.318512Z",
     "shell.execute_reply.started": "2021-09-23T16:01:55.379977Z"
    },
    "papermill": {
     "duration": 0.083091,
     "end_time": "2021-09-23T21:20:34.318667",
     "exception": false,
     "start_time": "2021-09-23T21:20:34.235576",
     "status": "completed"
    },
    "tags": []
   },
   "outputs": [],
   "source": [
    "class Config:\n",
    "    \"\"\"\n",
    "    Parameters used for training\n",
    "    \"\"\"\n",
    "    # General\n",
    "    seed = 42\n",
    "    verbose = 1\n",
    "    device = \"cuda\" if torch.cuda.is_available() else \"cpu\"\n",
    "    save_weights = True\n",
    "\n",
    "    # k-fold\n",
    "    k = 4\n",
    "    selected_folds = [0, 1, 2, 3]\n",
    "    \n",
    "    # Model\n",
    "    selected_model = 'rnn'\n",
    "    input_dim = 47\n",
    "\n",
    "    # dense_dim = 512\n",
    "    # lstm_dim = 512\n",
    "    # logit_dim = 512\n",
    "    # num_classes = 1\n",
    "    dense_dim = 256\n",
    "    lstm_dim = 256\n",
    "    logit_dim = 256\n",
    "    num_classes = 1\n",
    "    \n",
    "    # Training\n",
    "    loss = \"L1Loss\"  # not used\n",
    "    optimizer = \"Adam\"\n",
    "    batch_size = 128\n",
    "    epochs = 200\n",
    "\n",
    "    lr = 1e-3\n",
    "    warmup_prop = 0\n",
    "\n",
    "    val_bs = 256\n",
    "    first_epoch_eval = 0"
   ]
  },
  {
   "cell_type": "code",
   "execution_count": 19,
   "metadata": {
    "execution": {
     "iopub.execute_input": "2021-09-23T21:20:34.381278Z",
     "iopub.status.busy": "2021-09-23T21:20:34.380484Z",
     "iopub.status.idle": "2021-09-24T04:54:18.056705Z",
     "shell.execute_reply": "2021-09-24T04:54:18.057147Z",
     "shell.execute_reply.started": "2021-09-23T16:01:55.683568Z"
    },
    "papermill": {
     "duration": 27223.711152,
     "end_time": "2021-09-24T04:54:18.057328",
     "exception": false,
     "start_time": "2021-09-23T21:20:34.346176",
     "status": "completed"
    },
    "tags": []
   },
   "outputs": [
    {
     "name": "stdout",
     "output_type": "stream",
     "text": [
      "\n",
      "-------------   Fold 1 / 5  -------------\n",
      "\n",
      "    -> 60360 training breathes\n",
      "    -> 15090 validation breathes\n",
      "    -> 4860929 trainable parameters\n",
      "\n"
     ]
    }
   ],
   "source": [
    "pred_oof, pred_test = k_fold(\n",
    "    Config, \n",
    "    df_train,\n",
    "    df_test,\n",
    ")"
   ]
  },
  {
   "cell_type": "markdown",
   "metadata": {
    "papermill": {
     "duration": 0.284053,
     "end_time": "2021-09-24T04:54:18.623260",
     "exception": false,
     "start_time": "2021-09-24T04:54:18.339207",
     "status": "completed"
    },
    "tags": []
   },
   "source": [
    "### Predictions"
   ]
  },
  {
   "cell_type": "code",
   "execution_count": null,
   "metadata": {
    "_kg_hide-input": true,
    "execution": {
     "iopub.execute_input": "2021-09-24T04:54:19.193977Z",
     "iopub.status.busy": "2021-09-24T04:54:19.190294Z",
     "iopub.status.idle": "2021-09-24T04:54:19.196408Z",
     "shell.execute_reply": "2021-09-24T04:54:19.195995Z",
     "shell.execute_reply.started": "2021-09-23T17:17:15.739091Z"
    },
    "papermill": {
     "duration": 0.293901,
     "end_time": "2021-09-24T04:54:19.196525",
     "exception": false,
     "start_time": "2021-09-24T04:54:18.902624",
     "status": "completed"
    },
    "tags": []
   },
   "outputs": [],
   "source": [
    "def plot_prediction(sample_id, df):\n",
    "    df_breath = df[df['breath_id'] == sample_id]\n",
    "\n",
    "    cols = ['u_in', 'u_out', 'pressure'] if 'pressure' in df.columns else ['u_in', 'u_out']\n",
    "    \n",
    "    plt.figure(figsize=(12, 4))\n",
    "    for col in ['pred', 'pressure', 'u_out']:\n",
    "        plt.plot(df_breath['time_step'], df_breath[col], label=col)\n",
    "        \n",
    "    metric = compute_metric(df_breath, df_breath['pred'])\n",
    "        \n",
    "    plt.legend()\n",
    "    plt.title(f'Sample {sample_id} - MAE={metric:.3f}')"
   ]
  },
  {
   "cell_type": "code",
   "execution_count": null,
   "metadata": {
    "execution": {
     "iopub.execute_input": "2021-09-24T04:54:19.999984Z",
     "iopub.status.busy": "2021-09-24T04:54:19.998939Z",
     "iopub.status.idle": "2021-09-24T04:54:20.024023Z",
     "shell.execute_reply": "2021-09-24T04:54:20.024443Z",
     "shell.execute_reply.started": "2021-09-23T17:17:15.938849Z"
    },
    "papermill": {
     "duration": 0.468959,
     "end_time": "2021-09-24T04:54:20.024578",
     "exception": false,
     "start_time": "2021-09-24T04:54:19.555619",
     "status": "completed"
    },
    "tags": []
   },
   "outputs": [],
   "source": [
    "df_train[\"pred\"] = pred_oof"
   ]
  },
  {
   "cell_type": "code",
   "execution_count": null,
   "metadata": {
    "execution": {
     "iopub.execute_input": "2021-09-24T04:54:20.597998Z",
     "iopub.status.busy": "2021-09-24T04:54:20.597193Z",
     "iopub.status.idle": "2021-09-24T04:54:21.876139Z",
     "shell.execute_reply": "2021-09-24T04:54:21.876580Z",
     "shell.execute_reply.started": "2021-09-23T17:17:16.186296Z"
    },
    "papermill": {
     "duration": 1.571028,
     "end_time": "2021-09-24T04:54:21.876733",
     "exception": false,
     "start_time": "2021-09-24T04:54:20.305705",
     "status": "completed"
    },
    "tags": []
   },
   "outputs": [
    {
     "data": {
      "image/png": "[encoded data removed]",
      "text/plain": [
       "<Figure size 864x288 with 1 Axes>"
      ]
     },
     "metadata": {
      "needs_background": "light"
     },
     "output_type": "display_data"
    },
    {
     "data": {
      "image/png": "[encoded data removed]",
      "text/plain": [
       "<Figure size 864x288 with 1 Axes>"
      ]
     },
     "metadata": {
      "needs_background": "light"
     },
     "output_type": "display_data"
    },
    {
     "data": {
      "image/png": "[encoded data removed]",
      "text/plain": [
       "<Figure size 864x288 with 1 Axes>"
      ]
     },
     "metadata": {
      "needs_background": "light"
     },
     "output_type": "display_data"
    },
    {
     "data": {
      "image/png": "[encoded data removed]",
      "text/plain": [
       "<Figure size 864x288 with 1 Axes>"
      ]
     },
     "metadata": {
      "needs_background": "light"
     },
     "output_type": "display_data"
    },
    {
     "data": {
      "image/png": "[encoded data removed]",
      "text/plain": [
       "<Figure size 864x288 with 1 Axes>"
      ]
     },
     "metadata": {
      "needs_background": "light"
     },
     "output_type": "display_data"
    }
   ],
   "source": [
    "for i in df_train['breath_id'].unique()[:5]:\n",
    "    plot_prediction(i, df_train)"
   ]
  },
  {
   "cell_type": "markdown",
   "metadata": {
    "papermill": {
     "duration": 0.285762,
     "end_time": "2021-09-24T04:54:22.448717",
     "exception": false,
     "start_time": "2021-09-24T04:54:22.162955",
     "status": "completed"
    },
    "tags": []
   },
   "source": [
    "## Sub"
   ]
  },
  {
   "cell_type": "code",
   "execution_count": null,
   "metadata": {
    "execution": {
     "iopub.execute_input": "2021-09-24T04:54:23.028762Z",
     "iopub.status.busy": "2021-09-24T04:54:23.027473Z",
     "iopub.status.idle": "2021-09-24T04:54:24.170166Z",
     "shell.execute_reply": "2021-09-24T04:54:24.169698Z",
     "shell.execute_reply.started": "2021-09-23T17:17:17.442946Z"
    },
    "papermill": {
     "duration": 1.437495,
     "end_time": "2021-09-24T04:54:24.170299",
     "exception": false,
     "start_time": "2021-09-24T04:54:22.732804",
     "status": "completed"
    },
    "tags": []
   },
   "outputs": [
    {
     "data": {
      "image/png": "[encoded data removed]",
      "text/plain": [
       "<Figure size 864x288 with 1 Axes>"
      ]
     },
     "metadata": {
      "needs_background": "light"
     },
     "output_type": "display_data"
    },
    {
     "data": {
      "image/png": "[encoded data removed]",
      "text/plain": [
       "<Figure size 864x288 with 1 Axes>"
      ]
     },
     "metadata": {
      "needs_background": "light"
     },
     "output_type": "display_data"
    },
    {
     "data": {
      "image/png": "[encoded data removed]",
      "text/plain": [
       "<Figure size 864x288 with 1 Axes>"
      ]
     },
     "metadata": {
      "needs_background": "light"
     },
     "output_type": "display_data"
    },
    {
     "data": {
      "image/png": "[encoded data removed]",
      "text/plain": [
       "<Figure size 864x288 with 1 Axes>"
      ]
     },
     "metadata": {
      "needs_background": "light"
     },
     "output_type": "display_data"
    },
    {
     "data": {
      "image/png": "[encoded data removed]",
      "text/plain": [
       "<Figure size 864x288 with 1 Axes>"
      ]
     },
     "metadata": {
      "needs_background": "light"
     },
     "output_type": "display_data"
    }
   ],
   "source": [
    "df_test['pred'] = pred_test\n",
    "\n",
    "for i in df_test['breath_id'].unique()[:5]:\n",
    "    plot_prediction(i, df_test)"
   ]
  },
  {
   "cell_type": "code",
   "execution_count": null,
   "metadata": {
    "execution": {
     "iopub.execute_input": "2021-09-24T04:54:24.834106Z",
     "iopub.status.busy": "2021-09-24T04:54:24.832970Z",
     "iopub.status.idle": "2021-09-24T04:54:34.718271Z",
     "shell.execute_reply": "2021-09-24T04:54:34.717745Z",
     "shell.execute_reply.started": "2021-09-23T17:17:18.577955Z"
    },
    "papermill": {
     "duration": 10.2499,
     "end_time": "2021-09-24T04:54:34.718443",
     "exception": false,
     "start_time": "2021-09-24T04:54:24.468543",
     "status": "completed"
    },
    "tags": []
   },
   "outputs": [],
   "source": [
    "sub['pressure'] = pred_test\n",
    "sub.to_csv('submission.csv', index=False)"
   ]
  },
  {
   "cell_type": "markdown",
   "metadata": {
    "papermill": {
     "duration": 0.289059,
     "end_time": "2021-09-24T04:54:35.295007",
     "exception": false,
     "start_time": "2021-09-24T04:54:35.005948",
     "status": "completed"
    },
    "tags": []
   },
   "source": [
    "**Thanks for reading !**"
   ]
  }
 ],
 "metadata": {
  "interpreter": {
   "hash": "cc389f016b4508cd8daa88f4ee394fd1693d7bd89433f66362fdc17b674936ae"
  },
  "kernelspec": {
   "display_name": "Python 3.8.11 ('python38')",
   "language": "python",
   "name": "python3"
  },
  "language_info": {
   "codemirror_mode": {
    "name": "ipython",
    "version": 3
   },
   "file_extension": ".py",
   "mimetype": "text/x-python",
   "name": "python",
   "nbconvert_exporter": "python",
   "pygments_lexer": "ipython3",
   "version": "3.8.11"
  },
  "papermill": {
   "default_parameters": {},
   "duration": 27276.852477,
   "end_time": "2021-09-24T04:54:39.149808",
   "environment_variables": {},
   "exception": null,
   "input_path": "__notebook__.ipynb",
   "output_path": "__notebook__.ipynb",
   "parameters": {},
   "start_time": "2021-09-23T21:20:02.297331",
   "version": "2.3.3"
  }
 },
 "nbformat": 4,
 "nbformat_minor": 5
}
